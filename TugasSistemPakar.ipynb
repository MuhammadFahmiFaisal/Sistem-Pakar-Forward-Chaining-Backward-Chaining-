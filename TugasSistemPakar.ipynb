{
  "nbformat": 4,
  "nbformat_minor": 0,
  "metadata": {
    "colab": {
      "provenance": []
    },
    "kernelspec": {
      "name": "python3",
      "display_name": "Python 3"
    },
    "language_info": {
      "name": "python"
    }
  },
  "cells": [
    {
      "cell_type": "code",
      "execution_count": null,
      "metadata": {
        "colab": {
          "base_uri": "https://localhost:8080/"
        },
        "id": "R5EqCM-DU__L",
        "outputId": "69fc36b4-aca5-4397-a241-f3572e7bc46a"
      },
      "outputs": [
        {
          "output_type": "stream",
          "name": "stdout",
          "text": [
            "Collecting experta\n",
            "  Downloading experta-1.9.4-py3-none-any.whl.metadata (5.0 kB)\n",
            "Collecting frozendict==1.2 (from experta)\n",
            "  Downloading frozendict-1.2.tar.gz (2.6 kB)\n",
            "  Preparing metadata (setup.py) ... \u001b[?25l\u001b[?25hdone\n",
            "Collecting schema==0.6.7 (from experta)\n",
            "  Downloading schema-0.6.7-py2.py3-none-any.whl.metadata (14 kB)\n",
            "Downloading experta-1.9.4-py3-none-any.whl (35 kB)\n",
            "Downloading schema-0.6.7-py2.py3-none-any.whl (14 kB)\n",
            "Building wheels for collected packages: frozendict\n",
            "  Building wheel for frozendict (setup.py) ... \u001b[?25l\u001b[?25hdone\n",
            "  Created wheel for frozendict: filename=frozendict-1.2-py3-none-any.whl size=3149 sha256=210cf004976742833251703e4837f7a983596bec87b9c4a387ea4fdad4e9f58f\n",
            "  Stored in directory: /root/.cache/pip/wheels/49/ac/f8/cb8120244e710bdb479c86198b03c7b08c3c2d3d2bf448fd6e\n",
            "Successfully built frozendict\n",
            "Installing collected packages: schema, frozendict, experta\n",
            "  Attempting uninstall: frozendict\n",
            "    Found existing installation: frozendict 2.4.6\n",
            "    Uninstalling frozendict-2.4.6:\n",
            "      Successfully uninstalled frozendict-2.4.6\n",
            "\u001b[31mERROR: pip's dependency resolver does not currently take into account all the packages that are installed. This behaviour is the source of the following dependency conflicts.\n",
            "yfinance 0.2.55 requires frozendict>=2.3.4, but you have frozendict 1.2 which is incompatible.\u001b[0m\u001b[31m\n",
            "\u001b[0mSuccessfully installed experta-1.9.4 frozendict-1.2 schema-0.6.7\n"
          ]
        }
      ],
      "source": [
        "!pip install experta"
      ]
    },
    {
      "cell_type": "code",
      "source": [
        "!pip install --upgrade frozendict"
      ],
      "metadata": {
        "colab": {
          "base_uri": "https://localhost:8080/"
        },
        "id": "74rJaRD9VQBP",
        "outputId": "b914f9c1-9477-47a7-c9dd-04ab34b53d97"
      },
      "execution_count": null,
      "outputs": [
        {
          "output_type": "stream",
          "name": "stdout",
          "text": [
            "Requirement already satisfied: frozendict in /usr/local/lib/python3.11/dist-packages (1.2)\n",
            "Collecting frozendict\n",
            "  Downloading frozendict-2.4.6-py311-none-any.whl.metadata (23 kB)\n",
            "Downloading frozendict-2.4.6-py311-none-any.whl (16 kB)\n",
            "Installing collected packages: frozendict\n",
            "  Attempting uninstall: frozendict\n",
            "    Found existing installation: frozendict 1.2\n",
            "    Uninstalling frozendict-1.2:\n",
            "      Successfully uninstalled frozendict-1.2\n",
            "\u001b[31mERROR: pip's dependency resolver does not currently take into account all the packages that are installed. This behaviour is the source of the following dependency conflicts.\n",
            "experta 1.9.4 requires frozendict==1.2, but you have frozendict 2.4.6 which is incompatible.\u001b[0m\u001b[31m\n",
            "\u001b[0mSuccessfully installed frozendict-2.4.6\n"
          ]
        }
      ]
    },
    {
      "cell_type": "code",
      "source": [
        "from experta import *\n",
        "\n",
        "class Diagnosis(KnowledgeEngine):\n",
        "\n",
        "    @Rule(Fact(cough=True) & Fact(fever=True) & Fact(fatigue=True))\n",
        "    def flu(self):\n",
        "        print(\"Diagnosis: You may have the Flu.\")\n",
        "\n",
        "    @Rule(Fact(cough=True) & Fact(fever=True) & Fact(breathing_difficulty=True))\n",
        "    def pneumonia(self):\n",
        "        print(\"Diagnosis: You may have Pneumonia.\")\n",
        "\n",
        "    @Rule(Fact(sneezing=True) & Fact(runny_nose=True) & Fact(cough=False))\n",
        "    def cold(self):\n",
        "        print(\"Diagnosis: You may have a Common Cold.\")\n",
        "\n",
        "    @Rule(Fact(sore_throat=True) & Fact(fever=True))\n",
        "    def throat_infection(self):\n",
        "        print(\"Diagnosis: You may have a Throat Infection.\")\n",
        "\n",
        "    @Rule(Fact(cough=True) & Fact(fever=False) & Fact(fatigue=False))\n",
        "    def healthy(self):\n",
        "        print(\"Diagnosis: You seem to be healthy.\")\n",
        "\n",
        "    # PENYAKIT TAMBAHAN\n",
        "    @Rule(Fact(fever=True) & Fact(dry_cough=True) & Fact(loss_of_taste_smell=True))\n",
        "    def covid19(self):\n",
        "        print(\"Diagnosis: You may have COVID-19.\")\n",
        "\n",
        "    @Rule(Fact(sneezing=True) & Fact(runny_nose=True) & Fact(itchy_eyes=True))\n",
        "    def allergic_rhinitis(self):\n",
        "        print(\"Diagnosis: You may have Allergic Rhinitis.\")\n",
        "\n",
        "    @Rule(Fact(breathing_difficulty=True) & Fact(chest_tightness=True) & Fact(cough=True))\n",
        "    def asthma(self):\n",
        "        print(\"Diagnosis: You may have Asthma.\")\n",
        "\n",
        "    @Rule(Fact(headache=True) & Fact(nausea=True) & Fact(sensitivity_to_light=True))\n",
        "    def migraine(self):\n",
        "        print(\"Diagnosis: You may have a Migraine.\")\n",
        "\n",
        "    @Rule(Fact(fever=True) & Fact(joint_pain=True) & Fact(skin_rash=True))\n",
        "    def dengue(self):\n",
        "        print(\"Diagnosis: You may have Dengue Fever.\")\n",
        "\n",
        "\n",
        "def get_input():\n",
        "    \"\"\"Helper function to get user input as boolean (yes/no).\"\"\"\n",
        "    def ask_question(question):\n",
        "        return input(question + \" (yes/no): \").strip().lower() == \"yes\"\n",
        "\n",
        "    return {\n",
        "        # GEJALA LAMA\n",
        "        \"cough\": ask_question(\"Do you have a cough?\"),\n",
        "        \"fever\": ask_question(\"Do you have a fever?\"),\n",
        "        \"fatigue\": ask_question(\"Do you feel fatigued?\"),\n",
        "        \"breathing_difficulty\": ask_question(\"Do you have breathing difficulty?\"),\n",
        "        \"sneezing\": ask_question(\"Are you sneezing?\"),\n",
        "        \"runny_nose\": ask_question(\"Do you have a runny nose?\"),\n",
        "        \"sore_throat\": ask_question(\"Do you have a sore throat?\"),\n",
        "\n",
        "        # GEJALA BARU\n",
        "        \"dry_cough\": ask_question(\"Do you have a dry cough?\"),\n",
        "        \"loss_of_taste_smell\": ask_question(\"Have you lost your sense of taste or smell?\"),\n",
        "        \"itchy_eyes\": ask_question(\"Do you have itchy eyes?\"),\n",
        "        \"chest_tightness\": ask_question(\"Do you feel chest tightness?\"),\n",
        "        \"headache\": ask_question(\"Do you have a headache?\"),\n",
        "        \"nausea\": ask_question(\"Are you feeling nauseous?\"),\n",
        "        \"sensitivity_to_light\": ask_question(\"Are you sensitive to light?\"),\n",
        "        \"joint_pain\": ask_question(\"Do you have joint pain?\"),\n",
        "        \"skin_rash\": ask_question(\"Do you have a skin rash?\")\n",
        "    }\n",
        "\n",
        "# Running the expert system\n",
        "if __name__ == \"__main__\":\n",
        "    symptoms = get_input()\n",
        "    engine = Diagnosis()\n",
        "    engine.reset()  # Reset the knowledge engine\n",
        "\n",
        "    for symptom, present in symptoms.items():\n",
        "        engine.declare(Fact(**{symptom: present}))  # Declare facts\n",
        "\n",
        "    engine.run()  # Run the inference engine\n"
      ],
      "metadata": {
        "id": "T9C7U4iMVYeB",
        "colab": {
          "base_uri": "https://localhost:8080/"
        },
        "outputId": "8dfcd96b-e0c8-4da5-d0e3-dfab9cc98407"
      },
      "execution_count": null,
      "outputs": [
        {
          "name": "stdout",
          "output_type": "stream",
          "text": [
            "Do you have a cough? (yes/no): yes\n",
            "Do you have a fever? (yes/no): yes\n",
            "Do you feel fatigued? (yes/no): no\n",
            "Do you have breathing difficulty? (yes/no): no\n",
            "Are you sneezing? (yes/no): no\n",
            "Do you have a runny nose? (yes/no): no\n",
            "Do you have a sore throat? (yes/no): no\n"
          ]
        }
      ]
    }
  ]
}